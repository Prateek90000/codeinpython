{
 "cells": [
  {
   "cell_type": "markdown",
   "source": [
    "Neyral Network Problem using MNIST dataset"
   ],
   "metadata": {
    "collapsed": false
   }
  },
  {
   "cell_type": "code",
   "execution_count": 1,
   "outputs": [],
   "source": [
    "#import libraries\n",
    "import torch\n",
    "import torchvision\n",
    "import numpy as np\n",
    "import random as rd"
   ],
   "metadata": {
    "collapsed": false
   }
  },
  {
   "cell_type": "code",
   "execution_count": 2,
   "outputs": [],
   "source": [
    "# update hyperparameters for the model\n",
    "# Hyperparamentes are values that you use to adjust the model parameters\\\n",
    "# number of Epochs is the number of times you go over training data\n",
    "numEpochs = 3\n",
    "# batch is the size of chunk used each time for training or testing\n",
    "batch_size_train = 64\n",
    "batch_size_test = 64\n",
    "#the rate which the neural network learn\n",
    "learning_rate = 0.01\n",
    "# momentum is the speedup in learning rate depending on the current learning velocity\n",
    "momentum = 0.5\n",
    "# After how many steps should we print outputs\n",
    "log_intervals = 10"
   ],
   "metadata": {
    "collapsed": false
   }
  },
  {
   "cell_type": "code",
   "execution_count": 3,
   "outputs": [],
   "source": [
    "random_seed = 1996\n",
    "torch.manual_seed(random_seed)\n",
    "np.random.seed(random_seed)\n",
    "rd.seed(random_seed)"
   ],
   "metadata": {
    "collapsed": false
   }
  },
  {
   "cell_type": "code",
   "execution_count": 4,
   "outputs": [],
   "source": [
    "# load the data\n",
    "train_dataset = torchvision.datasets.MNIST('/files/', train=True, download=True,transform=torchvision.transforms.Compose([torchvision.transforms.ToTensor(),torchvision.transforms.Normalize((0.1307,), (0.3081,))]))\n",
    "\n",
    "test_dataset = torchvision.datasets.MNIST('/files/', train=False, download=True,transform=torchvision.transforms.Compose([torchvision.transforms.ToTensor(),torchvision.transforms.Normalize((0.1307,), (0.3081,))]))"
   ],
   "metadata": {
    "collapsed": false
   }
  },
  {
   "cell_type": "code",
   "execution_count": 5,
   "outputs": [],
   "source": [
    "from torch.utils.data import DataLoader\n",
    "train_dataloader1 = DataLoader(train_dataset,shuffle=True,batch_size=batch_size_train)\n",
    "test_dataloader1 = DataLoader(test_dataset,shuffle=True,batch_size=batch_size_test)"
   ],
   "metadata": {
    "collapsed": false
   }
  },
  {
   "cell_type": "code",
   "execution_count": 6,
   "outputs": [],
   "source": [
    "exampleEnumerator = enumerate(test_dataloader1)"
   ],
   "metadata": {
    "collapsed": false
   }
  },
  {
   "cell_type": "code",
   "execution_count": 7,
   "outputs": [
    {
     "name": "stdout",
     "output_type": "stream",
     "text": [
      "batch_id_for_example= 0\n",
      "exampleData.shape= torch.Size([64, 1, 28, 28])\n",
      "exampleLabel= tensor([8, 5, 7, 5, 2, 7, 7, 9, 9, 2, 0, 1, 6, 0, 9, 7, 2, 6, 0, 3, 4, 8, 0, 6,\n",
      "        9, 7, 2, 5, 8, 6, 5, 3, 6, 4, 6, 9, 5, 3, 6, 7, 0, 2, 9, 9, 8, 2, 8, 0,\n",
      "        4, 6, 7, 7, 7, 6, 9, 8, 4, 2, 4, 3, 9, 1, 6, 2])\n"
     ]
    }
   ],
   "source": [
    "batch_id_for_example, (exampleData,exampleLabel) =next(exampleEnumerator)\n",
    "print('batch_id_for_example=',batch_id_for_example)\n",
    "print('exampleData.shape=',exampleData.shape)\n",
    "print('exampleLabel=',exampleLabel)"
   ],
   "metadata": {
    "collapsed": false
   }
  },
  {
   "cell_type": "code",
   "execution_count": 8,
   "outputs": [
    {
     "name": "stderr",
     "output_type": "stream",
     "text": [
      "C:\\Users\\Lenovo\\AppData\\Local\\Temp\\ipykernel_12688\\1625993925.py:13: UserWarning: Matplotlib is currently using module://matplotlib_inline.backend_inline, which is a non-GUI backend, so cannot show the figure.\n",
      "  fig.show()\n"
     ]
    },
    {
     "data": {
      "text/plain": "<Figure size 1500x600 with 10 Axes>",
      "image/png": "[encoded data removed]"
     },
     "metadata": {},
     "output_type": "display_data"
    }
   ],
   "source": [
    "import matplotlib.pyplot as plt\n",
    "\n",
    "fig = plt.figure(figsize=(15,6))\n",
    "for figureNumber in range(10):\n",
    "    plt.subplot(2,5,figureNumber+1)\n",
    "    plt.tight_layout()\n",
    "    plt.imshow(exampleData[figureNumber][0], cmap=\"gray\", interpolation=\"none\")\n",
    "    plt.xticks([])\n",
    "    plt.yticks([])\n",
    "    plt.title('Ground Truth Table = %d'%exampleLabel[figureNumber])\n",
    "\n",
    "\n",
    "fig.show()"
   ],
   "metadata": {
    "collapsed": false
   }
  },
  {
   "cell_type": "code",
   "execution_count": 9,
   "outputs": [],
   "source": [
    "# import libraries for building network\n",
    "import torch.nn as nn\n",
    "import torch.optim as optim\n",
    "import torch.nn.functional as F"
   ],
   "metadata": {
    "collapsed": false
   }
  },
  {
   "cell_type": "code",
   "execution_count": 10,
   "outputs": [],
   "source": [
    "class Net(nn.Module):\n",
    "    def __init__(self):\n",
    "        super(Net, self).__init__()\n",
    "        self.conv1 = nn.Conv2d(1, 10, kernel_size=5)\n",
    "        self.conv2 = nn.Conv2d(10, 20, kernel_size=5)\n",
    "        self.conv2_drop = nn.Dropout2d()\n",
    "        self.fc1 = nn.Linear(320, 50)\n",
    "        self.fc2 = nn.Linear(50, 10)\n",
    "\n",
    "    def forward(self, x):\n",
    "        #relu negative as 0 and positive as 1\n",
    "        #max_pool2d = pools out information and gives maximum\n",
    "        x = F.relu(F.max_pool2d(self.conv1(x), 2))\n",
    "        x = F.relu(F.max_pool2d(self.conv2_drop(self.conv2(x)), 2))\n",
    "        x = x.view(-1, 320)\n",
    "        x = F.relu(self.fc1(x))\n",
    "        x = F.dropout(x, training=self.training)\n",
    "        x = self.fc2(x)\n",
    "        # softmax = outputs the maximum value, but does it within thresholds\n",
    "        return F.log_softmax(x)\n"
   ],
   "metadata": {
    "collapsed": false
   }
  },
  {
   "cell_type": "code",
   "execution_count": 11,
   "outputs": [],
   "source": [
    "network = Net()\n",
    "optimizer = optim.SGD(network.parameters(),lr=learning_rate,momentum=momentum)\n"
   ],
   "metadata": {
    "collapsed": false
   }
  },
  {
   "cell_type": "code",
   "execution_count": 12,
   "outputs": [
    {
     "name": "stdout",
     "output_type": "stream",
     "text": [
      "len(train_dataloader.dataset= 60000\n",
      "test_counter= [0, 60000, 120000, 180000]\n"
     ]
    }
   ],
   "source": [
    "#store the training the value\n",
    "train_losses = []\n",
    "train_counter = []\n",
    "test_losses = []\n",
    "test_counter = []\n",
    "print(\"len(train_dataloader.dataset=\",len(train_dataloader1.dataset))\n",
    "test_counter = [i*len(train_dataloader1.dataset) for i in range(numEpochs+1)]\n",
    "print(\"test_counter=\",test_counter)"
   ],
   "metadata": {
    "collapsed": false
   }
  },
  {
   "cell_type": "code",
   "execution_count": 15,
   "outputs": [],
   "source": [
    "def train(epoch):\n",
    "    network.train()\n",
    "    for batch_idx, (data, target) in enumerate(train_dataloader1):\n",
    "        optimizer.zero_grad()\n",
    "        output = network(data)\n",
    "        loss = F.nll_loss(output, target)\n",
    "        loss.backward()\n",
    "        optimizer.step()\n",
    "        if batch_idx % log_intervals == 0:\n",
    "            print('Train Epoch: {} [{}/{} ({:.0f}%)]\\tLoss: {:.6f}'.format(\n",
    "                epoch, batch_idx * len(data), len(train_dataloader1.dataset),\n",
    "                       100. * batch_idx / len(train_dataloader1), loss.item()))\n",
    "            train_losses.append(loss.item())\n",
    "            train_counter.append(\n",
    "                (batch_idx*64) + ((epoch-1)*len(train_dataloader1.dataset)))\n",
    "            torch.save(network.state_dict(), 'results/model.pth')\n",
    "            torch.save(optimizer.state_dict(), 'results/optimizer.pth')\n",
    "\n",
    "def test():\n",
    "    network.eval()\n",
    "    test_loss = 0\n",
    "    correct = 0\n",
    "    with torch.no_grad():\n",
    "        for data, target in test_dataloader1:\n",
    "            output = network(data)\n",
    "            test_loss += F.nll_loss(output, target, size_average=False).item()\n",
    "            pred = output.data.max(1, keepdim=True)[1]\n",
    "            correct += pred.eq(target.data.view_as(pred)).sum()\n",
    "    test_loss /= len(test_dataloader1.dataset)\n",
    "    test_losses.append(test_loss)\n",
    "    print('\\nTest set: Avg. loss: {:.4f}, Accuracy: {}/{} ({:.0f}%)\\n'.format(\n",
    "        test_loss, correct, len(test_dataloader1.dataset),\n",
    "        100. * correct / len(test_dataloader1.dataset)))"
   ],
   "metadata": {
    "collapsed": false
   }
  },
  {
   "cell_type": "code",
   "execution_count": 17,
   "outputs": [
    {
     "name": "stderr",
     "output_type": "stream",
     "text": [
      "C:\\Users\\Lenovo\\AppData\\Local\\Temp\\ipykernel_12688\\1191585169.py:20: UserWarning: Implicit dimension choice for log_softmax has been deprecated. Change the call to include dim=X as an argument.\n",
      "  return F.log_softmax(x)\n"
     ]
    },
    {
     "name": "stdout",
     "output_type": "stream",
     "text": [
      "\n",
      "Test set: Avg. loss: 2.3077, Accuracy: 952/10000 (10%)\n",
      "\n",
      "Train Epoch: 1 [0/60000 (0%)]\tLoss: 2.342999\n",
      "Train Epoch: 1 [640/60000 (1%)]\tLoss: 2.317849\n",
      "Train Epoch: 1 [1280/60000 (2%)]\tLoss: 2.319499\n",
      "Train Epoch: 1 [1920/60000 (3%)]\tLoss: 2.266197\n",
      "Train Epoch: 1 [2560/60000 (4%)]\tLoss: 2.255515\n",
      "Train Epoch: 1 [3200/60000 (5%)]\tLoss: 2.252189\n",
      "Train Epoch: 1 [3840/60000 (6%)]\tLoss: 2.224259\n",
      "Train Epoch: 1 [4480/60000 (7%)]\tLoss: 2.172330\n",
      "Train Epoch: 1 [5120/60000 (9%)]\tLoss: 2.200540\n",
      "Train Epoch: 1 [5760/60000 (10%)]\tLoss: 2.194271\n",
      "Train Epoch: 1 [6400/60000 (11%)]\tLoss: 2.026909\n",
      "Train Epoch: 1 [7040/60000 (12%)]\tLoss: 2.036382\n",
      "Train Epoch: 1 [7680/60000 (13%)]\tLoss: 1.797615\n",
      "Train Epoch: 1 [8320/60000 (14%)]\tLoss: 1.823534\n",
      "Train Epoch: 1 [8960/60000 (15%)]\tLoss: 1.686221\n",
      "Train Epoch: 1 [9600/60000 (16%)]\tLoss: 1.531311\n",
      "Train Epoch: 1 [10240/60000 (17%)]\tLoss: 1.352414\n",
      "Train Epoch: 1 [10880/60000 (18%)]\tLoss: 1.253048\n",
      "Train Epoch: 1 [11520/60000 (19%)]\tLoss: 1.421476\n",
      "Train Epoch: 1 [12160/60000 (20%)]\tLoss: 1.231468\n",
      "Train Epoch: 1 [12800/60000 (21%)]\tLoss: 1.043425\n",
      "Train Epoch: 1 [13440/60000 (22%)]\tLoss: 0.930166\n",
      "Train Epoch: 1 [14080/60000 (23%)]\tLoss: 1.051703\n",
      "Train Epoch: 1 [14720/60000 (25%)]\tLoss: 0.886166\n",
      "Train Epoch: 1 [15360/60000 (26%)]\tLoss: 0.936135\n",
      "Train Epoch: 1 [16000/60000 (27%)]\tLoss: 0.796314\n",
      "Train Epoch: 1 [16640/60000 (28%)]\tLoss: 0.990822\n",
      "Train Epoch: 1 [17280/60000 (29%)]\tLoss: 0.868810\n",
      "Train Epoch: 1 [17920/60000 (30%)]\tLoss: 0.921945\n",
      "Train Epoch: 1 [18560/60000 (31%)]\tLoss: 0.837014\n",
      "Train Epoch: 1 [19200/60000 (32%)]\tLoss: 0.866605\n",
      "Train Epoch: 1 [19840/60000 (33%)]\tLoss: 0.776772\n",
      "Train Epoch: 1 [20480/60000 (34%)]\tLoss: 0.875327\n",
      "Train Epoch: 1 [21120/60000 (35%)]\tLoss: 0.725409\n",
      "Train Epoch: 1 [21760/60000 (36%)]\tLoss: 0.734527\n",
      "Train Epoch: 1 [22400/60000 (37%)]\tLoss: 0.525995\n",
      "Train Epoch: 1 [23040/60000 (38%)]\tLoss: 1.016842\n",
      "Train Epoch: 1 [23680/60000 (39%)]\tLoss: 0.691148\n",
      "Train Epoch: 1 [24320/60000 (41%)]\tLoss: 0.861924\n",
      "Train Epoch: 1 [24960/60000 (42%)]\tLoss: 0.966927\n",
      "Train Epoch: 1 [25600/60000 (43%)]\tLoss: 0.805746\n",
      "Train Epoch: 1 [26240/60000 (44%)]\tLoss: 0.639171\n",
      "Train Epoch: 1 [26880/60000 (45%)]\tLoss: 0.517561\n",
      "Train Epoch: 1 [27520/60000 (46%)]\tLoss: 0.850385\n",
      "Train Epoch: 1 [28160/60000 (47%)]\tLoss: 0.691531\n",
      "Train Epoch: 1 [28800/60000 (48%)]\tLoss: 0.519973\n",
      "Train Epoch: 1 [29440/60000 (49%)]\tLoss: 0.540912\n",
      "Train Epoch: 1 [30080/60000 (50%)]\tLoss: 0.630988\n",
      "Train Epoch: 1 [30720/60000 (51%)]\tLoss: 0.414251\n",
      "Train Epoch: 1 [31360/60000 (52%)]\tLoss: 0.670228\n",
      "Train Epoch: 1 [32000/60000 (53%)]\tLoss: 0.570402\n",
      "Train Epoch: 1 [32640/60000 (54%)]\tLoss: 0.574916\n",
      "Train Epoch: 1 [33280/60000 (55%)]\tLoss: 0.840403\n",
      "Train Epoch: 1 [33920/60000 (57%)]\tLoss: 0.486914\n",
      "Train Epoch: 1 [34560/60000 (58%)]\tLoss: 0.709180\n",
      "Train Epoch: 1 [35200/60000 (59%)]\tLoss: 0.446367\n",
      "Train Epoch: 1 [35840/60000 (60%)]\tLoss: 0.703539\n",
      "Train Epoch: 1 [36480/60000 (61%)]\tLoss: 0.652364\n",
      "Train Epoch: 1 [37120/60000 (62%)]\tLoss: 0.387298\n",
      "Train Epoch: 1 [37760/60000 (63%)]\tLoss: 0.426768\n",
      "Train Epoch: 1 [38400/60000 (64%)]\tLoss: 0.401178\n",
      "Train Epoch: 1 [39040/60000 (65%)]\tLoss: 0.431040\n",
      "Train Epoch: 1 [39680/60000 (66%)]\tLoss: 0.484997\n",
      "Train Epoch: 1 [40320/60000 (67%)]\tLoss: 0.637340\n",
      "Train Epoch: 1 [40960/60000 (68%)]\tLoss: 0.492752\n",
      "Train Epoch: 1 [41600/60000 (69%)]\tLoss: 0.501625\n",
      "Train Epoch: 1 [42240/60000 (70%)]\tLoss: 0.655822\n",
      "Train Epoch: 1 [42880/60000 (71%)]\tLoss: 0.501379\n",
      "Train Epoch: 1 [43520/60000 (72%)]\tLoss: 0.461277\n",
      "Train Epoch: 1 [44160/60000 (74%)]\tLoss: 0.495877\n",
      "Train Epoch: 1 [44800/60000 (75%)]\tLoss: 0.371453\n",
      "Train Epoch: 1 [45440/60000 (76%)]\tLoss: 0.634000\n",
      "Train Epoch: 1 [46080/60000 (77%)]\tLoss: 0.537463\n",
      "Train Epoch: 1 [46720/60000 (78%)]\tLoss: 0.455720\n",
      "Train Epoch: 1 [47360/60000 (79%)]\tLoss: 0.444773\n",
      "Train Epoch: 1 [48000/60000 (80%)]\tLoss: 0.522236\n",
      "Train Epoch: 1 [48640/60000 (81%)]\tLoss: 0.513981\n",
      "Train Epoch: 1 [49280/60000 (82%)]\tLoss: 0.645241\n",
      "Train Epoch: 1 [49920/60000 (83%)]\tLoss: 0.877752\n",
      "Train Epoch: 1 [50560/60000 (84%)]\tLoss: 0.481951\n",
      "Train Epoch: 1 [51200/60000 (85%)]\tLoss: 0.636449\n",
      "Train Epoch: 1 [51840/60000 (86%)]\tLoss: 0.449050\n",
      "Train Epoch: 1 [52480/60000 (87%)]\tLoss: 0.328289\n",
      "Train Epoch: 1 [53120/60000 (88%)]\tLoss: 0.533959\n",
      "Train Epoch: 1 [53760/60000 (90%)]\tLoss: 0.535379\n",
      "Train Epoch: 1 [54400/60000 (91%)]\tLoss: 0.370728\n",
      "Train Epoch: 1 [55040/60000 (92%)]\tLoss: 0.522041\n",
      "Train Epoch: 1 [55680/60000 (93%)]\tLoss: 0.401270\n",
      "Train Epoch: 1 [56320/60000 (94%)]\tLoss: 0.358652\n",
      "Train Epoch: 1 [56960/60000 (95%)]\tLoss: 0.270023\n",
      "Train Epoch: 1 [57600/60000 (96%)]\tLoss: 0.543204\n",
      "Train Epoch: 1 [58240/60000 (97%)]\tLoss: 0.384262\n",
      "Train Epoch: 1 [58880/60000 (98%)]\tLoss: 0.334628\n",
      "Train Epoch: 1 [59520/60000 (99%)]\tLoss: 0.434516\n",
      "\n",
      "Test set: Avg. loss: 0.1661, Accuracy: 9508/10000 (95%)\n",
      "\n",
      "Train Epoch: 2 [0/60000 (0%)]\tLoss: 0.268468\n",
      "Train Epoch: 2 [640/60000 (1%)]\tLoss: 0.670086\n",
      "Train Epoch: 2 [1280/60000 (2%)]\tLoss: 0.414052\n",
      "Train Epoch: 2 [1920/60000 (3%)]\tLoss: 0.386716\n",
      "Train Epoch: 2 [2560/60000 (4%)]\tLoss: 0.472045\n",
      "Train Epoch: 2 [3200/60000 (5%)]\tLoss: 0.452984\n",
      "Train Epoch: 2 [3840/60000 (6%)]\tLoss: 0.387287\n",
      "Train Epoch: 2 [4480/60000 (7%)]\tLoss: 0.419638\n",
      "Train Epoch: 2 [5120/60000 (9%)]\tLoss: 0.488299\n",
      "Train Epoch: 2 [5760/60000 (10%)]\tLoss: 0.235045\n",
      "Train Epoch: 2 [6400/60000 (11%)]\tLoss: 0.482307\n",
      "Train Epoch: 2 [7040/60000 (12%)]\tLoss: 0.417523\n",
      "Train Epoch: 2 [7680/60000 (13%)]\tLoss: 0.440161\n",
      "Train Epoch: 2 [8320/60000 (14%)]\tLoss: 0.324560\n",
      "Train Epoch: 2 [8960/60000 (15%)]\tLoss: 0.275241\n",
      "Train Epoch: 2 [9600/60000 (16%)]\tLoss: 0.301361\n",
      "Train Epoch: 2 [10240/60000 (17%)]\tLoss: 0.511556\n",
      "Train Epoch: 2 [10880/60000 (18%)]\tLoss: 0.545201\n",
      "Train Epoch: 2 [11520/60000 (19%)]\tLoss: 0.473135\n",
      "Train Epoch: 2 [12160/60000 (20%)]\tLoss: 0.368583\n",
      "Train Epoch: 2 [12800/60000 (21%)]\tLoss: 0.422846\n",
      "Train Epoch: 2 [13440/60000 (22%)]\tLoss: 0.519484\n",
      "Train Epoch: 2 [14080/60000 (23%)]\tLoss: 0.365509\n",
      "Train Epoch: 2 [14720/60000 (25%)]\tLoss: 0.317886\n",
      "Train Epoch: 2 [15360/60000 (26%)]\tLoss: 0.652872\n",
      "Train Epoch: 2 [16000/60000 (27%)]\tLoss: 0.594821\n",
      "Train Epoch: 2 [16640/60000 (28%)]\tLoss: 0.529166\n",
      "Train Epoch: 2 [17280/60000 (29%)]\tLoss: 0.346128\n",
      "Train Epoch: 2 [17920/60000 (30%)]\tLoss: 0.386728\n",
      "Train Epoch: 2 [18560/60000 (31%)]\tLoss: 0.205530\n",
      "Train Epoch: 2 [19200/60000 (32%)]\tLoss: 0.284987\n",
      "Train Epoch: 2 [19840/60000 (33%)]\tLoss: 0.286619\n",
      "Train Epoch: 2 [20480/60000 (34%)]\tLoss: 0.227165\n",
      "Train Epoch: 2 [21120/60000 (35%)]\tLoss: 0.524759\n",
      "Train Epoch: 2 [21760/60000 (36%)]\tLoss: 0.458864\n",
      "Train Epoch: 2 [22400/60000 (37%)]\tLoss: 0.370133\n",
      "Train Epoch: 2 [23040/60000 (38%)]\tLoss: 0.137220\n",
      "Train Epoch: 2 [23680/60000 (39%)]\tLoss: 0.277425\n",
      "Train Epoch: 2 [24320/60000 (41%)]\tLoss: 0.367415\n",
      "Train Epoch: 2 [24960/60000 (42%)]\tLoss: 0.423660\n",
      "Train Epoch: 2 [25600/60000 (43%)]\tLoss: 0.370898\n",
      "Train Epoch: 2 [26240/60000 (44%)]\tLoss: 0.372816\n",
      "Train Epoch: 2 [26880/60000 (45%)]\tLoss: 0.193455\n",
      "Train Epoch: 2 [27520/60000 (46%)]\tLoss: 0.395727\n",
      "Train Epoch: 2 [28160/60000 (47%)]\tLoss: 0.342315\n",
      "Train Epoch: 2 [28800/60000 (48%)]\tLoss: 0.594854\n",
      "Train Epoch: 2 [29440/60000 (49%)]\tLoss: 0.144977\n",
      "Train Epoch: 2 [30080/60000 (50%)]\tLoss: 0.428981\n",
      "Train Epoch: 2 [30720/60000 (51%)]\tLoss: 0.492598\n",
      "Train Epoch: 2 [31360/60000 (52%)]\tLoss: 0.285502\n",
      "Train Epoch: 2 [32000/60000 (53%)]\tLoss: 0.304312\n",
      "Train Epoch: 2 [32640/60000 (54%)]\tLoss: 0.390914\n",
      "Train Epoch: 2 [33280/60000 (55%)]\tLoss: 0.252764\n",
      "Train Epoch: 2 [33920/60000 (57%)]\tLoss: 0.490520\n",
      "Train Epoch: 2 [34560/60000 (58%)]\tLoss: 0.576852\n",
      "Train Epoch: 2 [35200/60000 (59%)]\tLoss: 0.196446\n",
      "Train Epoch: 2 [35840/60000 (60%)]\tLoss: 0.458869\n",
      "Train Epoch: 2 [36480/60000 (61%)]\tLoss: 0.250621\n",
      "Train Epoch: 2 [37120/60000 (62%)]\tLoss: 0.393955\n",
      "Train Epoch: 2 [37760/60000 (63%)]\tLoss: 0.475693\n",
      "Train Epoch: 2 [38400/60000 (64%)]\tLoss: 0.321729\n",
      "Train Epoch: 2 [39040/60000 (65%)]\tLoss: 0.298886\n",
      "Train Epoch: 2 [39680/60000 (66%)]\tLoss: 0.255435\n",
      "Train Epoch: 2 [40320/60000 (67%)]\tLoss: 0.210848\n",
      "Train Epoch: 2 [40960/60000 (68%)]\tLoss: 0.416712\n",
      "Train Epoch: 2 [41600/60000 (69%)]\tLoss: 0.347057\n",
      "Train Epoch: 2 [42240/60000 (70%)]\tLoss: 0.519565\n",
      "Train Epoch: 2 [42880/60000 (71%)]\tLoss: 0.191571\n",
      "Train Epoch: 2 [43520/60000 (72%)]\tLoss: 0.543554\n",
      "Train Epoch: 2 [44160/60000 (74%)]\tLoss: 0.543357\n",
      "Train Epoch: 2 [44800/60000 (75%)]\tLoss: 0.278704\n",
      "Train Epoch: 2 [45440/60000 (76%)]\tLoss: 0.734281\n",
      "Train Epoch: 2 [46080/60000 (77%)]\tLoss: 0.446571\n",
      "Train Epoch: 2 [46720/60000 (78%)]\tLoss: 0.335565\n",
      "Train Epoch: 2 [47360/60000 (79%)]\tLoss: 0.346867\n",
      "Train Epoch: 2 [48000/60000 (80%)]\tLoss: 0.184088\n",
      "Train Epoch: 2 [48640/60000 (81%)]\tLoss: 0.470712\n",
      "Train Epoch: 2 [49280/60000 (82%)]\tLoss: 0.216378\n",
      "Train Epoch: 2 [49920/60000 (83%)]\tLoss: 0.337041\n",
      "Train Epoch: 2 [50560/60000 (84%)]\tLoss: 0.329080\n",
      "Train Epoch: 2 [51200/60000 (85%)]\tLoss: 0.141117\n",
      "Train Epoch: 2 [51840/60000 (86%)]\tLoss: 0.547424\n",
      "Train Epoch: 2 [52480/60000 (87%)]\tLoss: 0.372135\n",
      "Train Epoch: 2 [53120/60000 (88%)]\tLoss: 0.376257\n",
      "Train Epoch: 2 [53760/60000 (90%)]\tLoss: 0.395303\n",
      "Train Epoch: 2 [54400/60000 (91%)]\tLoss: 0.265008\n",
      "Train Epoch: 2 [55040/60000 (92%)]\tLoss: 0.206642\n",
      "Train Epoch: 2 [55680/60000 (93%)]\tLoss: 0.296232\n",
      "Train Epoch: 2 [56320/60000 (94%)]\tLoss: 0.303077\n",
      "Train Epoch: 2 [56960/60000 (95%)]\tLoss: 0.478781\n",
      "Train Epoch: 2 [57600/60000 (96%)]\tLoss: 0.290292\n",
      "Train Epoch: 2 [58240/60000 (97%)]\tLoss: 0.236788\n",
      "Train Epoch: 2 [58880/60000 (98%)]\tLoss: 0.212782\n",
      "Train Epoch: 2 [59520/60000 (99%)]\tLoss: 0.326191\n",
      "\n",
      "Test set: Avg. loss: 0.1081, Accuracy: 9670/10000 (97%)\n",
      "\n",
      "Train Epoch: 3 [0/60000 (0%)]\tLoss: 0.291032\n",
      "Train Epoch: 3 [640/60000 (1%)]\tLoss: 0.194514\n",
      "Train Epoch: 3 [1280/60000 (2%)]\tLoss: 0.516776\n",
      "Train Epoch: 3 [1920/60000 (3%)]\tLoss: 0.540403\n",
      "Train Epoch: 3 [2560/60000 (4%)]\tLoss: 0.329173\n",
      "Train Epoch: 3 [3200/60000 (5%)]\tLoss: 0.295033\n",
      "Train Epoch: 3 [3840/60000 (6%)]\tLoss: 0.312788\n",
      "Train Epoch: 3 [4480/60000 (7%)]\tLoss: 0.303055\n",
      "Train Epoch: 3 [5120/60000 (9%)]\tLoss: 0.289272\n",
      "Train Epoch: 3 [5760/60000 (10%)]\tLoss: 0.252207\n",
      "Train Epoch: 3 [6400/60000 (11%)]\tLoss: 0.339057\n",
      "Train Epoch: 3 [7040/60000 (12%)]\tLoss: 0.274023\n",
      "Train Epoch: 3 [7680/60000 (13%)]\tLoss: 0.210351\n",
      "Train Epoch: 3 [8320/60000 (14%)]\tLoss: 0.303641\n",
      "Train Epoch: 3 [8960/60000 (15%)]\tLoss: 0.499594\n",
      "Train Epoch: 3 [9600/60000 (16%)]\tLoss: 0.315831\n",
      "Train Epoch: 3 [10240/60000 (17%)]\tLoss: 0.331884\n",
      "Train Epoch: 3 [10880/60000 (18%)]\tLoss: 0.211715\n",
      "Train Epoch: 3 [11520/60000 (19%)]\tLoss: 0.165574\n",
      "Train Epoch: 3 [12160/60000 (20%)]\tLoss: 0.323583\n",
      "Train Epoch: 3 [12800/60000 (21%)]\tLoss: 0.291501\n",
      "Train Epoch: 3 [13440/60000 (22%)]\tLoss: 0.185842\n",
      "Train Epoch: 3 [14080/60000 (23%)]\tLoss: 0.227611\n",
      "Train Epoch: 3 [14720/60000 (25%)]\tLoss: 0.362347\n",
      "Train Epoch: 3 [15360/60000 (26%)]\tLoss: 0.322060\n",
      "Train Epoch: 3 [16000/60000 (27%)]\tLoss: 0.146766\n",
      "Train Epoch: 3 [16640/60000 (28%)]\tLoss: 0.383850\n",
      "Train Epoch: 3 [17280/60000 (29%)]\tLoss: 0.431980\n",
      "Train Epoch: 3 [17920/60000 (30%)]\tLoss: 0.335907\n",
      "Train Epoch: 3 [18560/60000 (31%)]\tLoss: 0.239495\n",
      "Train Epoch: 3 [19200/60000 (32%)]\tLoss: 0.208943\n",
      "Train Epoch: 3 [19840/60000 (33%)]\tLoss: 0.432926\n",
      "Train Epoch: 3 [20480/60000 (34%)]\tLoss: 0.618550\n",
      "Train Epoch: 3 [21120/60000 (35%)]\tLoss: 0.262282\n",
      "Train Epoch: 3 [21760/60000 (36%)]\tLoss: 0.241127\n",
      "Train Epoch: 3 [22400/60000 (37%)]\tLoss: 0.190703\n",
      "Train Epoch: 3 [23040/60000 (38%)]\tLoss: 0.380020\n",
      "Train Epoch: 3 [23680/60000 (39%)]\tLoss: 0.198603\n",
      "Train Epoch: 3 [24320/60000 (41%)]\tLoss: 0.232843\n",
      "Train Epoch: 3 [24960/60000 (42%)]\tLoss: 0.269777\n",
      "Train Epoch: 3 [25600/60000 (43%)]\tLoss: 0.383167\n",
      "Train Epoch: 3 [26240/60000 (44%)]\tLoss: 0.225021\n",
      "Train Epoch: 3 [26880/60000 (45%)]\tLoss: 0.189996\n",
      "Train Epoch: 3 [27520/60000 (46%)]\tLoss: 0.282570\n",
      "Train Epoch: 3 [28160/60000 (47%)]\tLoss: 0.285652\n",
      "Train Epoch: 3 [28800/60000 (48%)]\tLoss: 0.252149\n",
      "Train Epoch: 3 [29440/60000 (49%)]\tLoss: 0.546528\n",
      "Train Epoch: 3 [30080/60000 (50%)]\tLoss: 0.219261\n",
      "Train Epoch: 3 [30720/60000 (51%)]\tLoss: 0.438312\n",
      "Train Epoch: 3 [31360/60000 (52%)]\tLoss: 0.298895\n",
      "Train Epoch: 3 [32000/60000 (53%)]\tLoss: 0.219512\n",
      "Train Epoch: 3 [32640/60000 (54%)]\tLoss: 0.425358\n",
      "Train Epoch: 3 [33280/60000 (55%)]\tLoss: 0.242620\n",
      "Train Epoch: 3 [33920/60000 (57%)]\tLoss: 0.197114\n",
      "Train Epoch: 3 [34560/60000 (58%)]\tLoss: 0.116366\n",
      "Train Epoch: 3 [35200/60000 (59%)]\tLoss: 0.248051\n",
      "Train Epoch: 3 [35840/60000 (60%)]\tLoss: 0.251078\n",
      "Train Epoch: 3 [36480/60000 (61%)]\tLoss: 0.212725\n",
      "Train Epoch: 3 [37120/60000 (62%)]\tLoss: 0.270321\n",
      "Train Epoch: 3 [37760/60000 (63%)]\tLoss: 0.216520\n",
      "Train Epoch: 3 [38400/60000 (64%)]\tLoss: 0.495295\n",
      "Train Epoch: 3 [39040/60000 (65%)]\tLoss: 0.302749\n",
      "Train Epoch: 3 [39680/60000 (66%)]\tLoss: 0.146571\n",
      "Train Epoch: 3 [40320/60000 (67%)]\tLoss: 0.356575\n",
      "Train Epoch: 3 [40960/60000 (68%)]\tLoss: 0.465996\n",
      "Train Epoch: 3 [41600/60000 (69%)]\tLoss: 0.268153\n",
      "Train Epoch: 3 [42240/60000 (70%)]\tLoss: 0.117178\n",
      "Train Epoch: 3 [42880/60000 (71%)]\tLoss: 0.167927\n",
      "Train Epoch: 3 [43520/60000 (72%)]\tLoss: 0.349765\n",
      "Train Epoch: 3 [44160/60000 (74%)]\tLoss: 0.266330\n",
      "Train Epoch: 3 [44800/60000 (75%)]\tLoss: 0.355287\n",
      "Train Epoch: 3 [45440/60000 (76%)]\tLoss: 0.351034\n",
      "Train Epoch: 3 [46080/60000 (77%)]\tLoss: 0.189192\n",
      "Train Epoch: 3 [46720/60000 (78%)]\tLoss: 0.211522\n",
      "Train Epoch: 3 [47360/60000 (79%)]\tLoss: 0.175372\n",
      "Train Epoch: 3 [48000/60000 (80%)]\tLoss: 0.297129\n",
      "Train Epoch: 3 [48640/60000 (81%)]\tLoss: 0.270508\n",
      "Train Epoch: 3 [49280/60000 (82%)]\tLoss: 0.186048\n",
      "Train Epoch: 3 [49920/60000 (83%)]\tLoss: 0.281656\n",
      "Train Epoch: 3 [50560/60000 (84%)]\tLoss: 0.235006\n",
      "Train Epoch: 3 [51200/60000 (85%)]\tLoss: 0.208785\n",
      "Train Epoch: 3 [51840/60000 (86%)]\tLoss: 0.197907\n",
      "Train Epoch: 3 [52480/60000 (87%)]\tLoss: 0.209334\n",
      "Train Epoch: 3 [53120/60000 (88%)]\tLoss: 0.248617\n",
      "Train Epoch: 3 [53760/60000 (90%)]\tLoss: 0.319497\n",
      "Train Epoch: 3 [54400/60000 (91%)]\tLoss: 0.300674\n",
      "Train Epoch: 3 [55040/60000 (92%)]\tLoss: 0.247881\n",
      "Train Epoch: 3 [55680/60000 (93%)]\tLoss: 0.114442\n",
      "Train Epoch: 3 [56320/60000 (94%)]\tLoss: 0.278061\n",
      "Train Epoch: 3 [56960/60000 (95%)]\tLoss: 0.180673\n",
      "Train Epoch: 3 [57600/60000 (96%)]\tLoss: 0.268912\n",
      "Train Epoch: 3 [58240/60000 (97%)]\tLoss: 0.229440\n",
      "Train Epoch: 3 [58880/60000 (98%)]\tLoss: 0.262211\n",
      "Train Epoch: 3 [59520/60000 (99%)]\tLoss: 0.119406\n",
      "\n",
      "Test set: Avg. loss: 0.0865, Accuracy: 9727/10000 (97%)\n",
      "\n"
     ]
    }
   ],
   "source": [
    "test()\n",
    "for epoch in range(1, numEpochs +1):\n",
    "    train(epoch)\n",
    "    test()"
   ],
   "metadata": {
    "collapsed": false
   }
  },
  {
   "cell_type": "markdown",
   "source": [
    "We will now plot Markdown"
   ],
   "metadata": {
    "collapsed": false
   }
  },
  {
   "cell_type": "code",
   "execution_count": 19,
   "outputs": [
    {
     "name": "stderr",
     "output_type": "stream",
     "text": [
      "C:\\Users\\Lenovo\\AppData\\Local\\Temp\\ipykernel_12688\\2146622502.py:6: UserWarning: Matplotlib is currently using module://matplotlib_inline.backend_inline, which is a non-GUI backend, so cannot show the figure.\n",
      "  figure.show()\n"
     ]
    },
    {
     "data": {
      "text/plain": "<Figure size 640x480 with 1 Axes>",
      "image/png": "[encoded data removed]"
     },
     "metadata": {},
     "output_type": "display_data"
    }
   ],
   "source": [
    "figure = plt.figure()\n",
    "plt.plot(train_counter,train_losses, color = \"turquoise\")\n",
    "plt.scatter(test_counter,test_losses[1:], color = \"red\")\n",
    "plt.xlabel(\"Number of training iterations\")\n",
    "plt.ylabel(\"Negative Log Likelihood Loss\")\n",
    "figure.show()\n"
   ],
   "metadata": {
    "collapsed": false
   }
  },
  {
   "cell_type": "code",
   "execution_count": null,
   "outputs": [],
   "source": [],
   "metadata": {
    "collapsed": false
   }
  }
 ],
 "metadata": {
  "kernelspec": {
   "display_name": "Python 3",
   "language": "python",
   "name": "python3"
  },
  "language_info": {
   "codemirror_mode": {
    "name": "ipython",
    "version": 2
   },
   "file_extension": ".py",
   "mimetype": "text/x-python",
   "name": "python",
   "nbconvert_exporter": "python",
   "pygments_lexer": "ipython2",
   "version": "2.7.6"
  }
 },
 "nbformat": 4,
 "nbformat_minor": 0
}
